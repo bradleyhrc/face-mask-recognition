{
 "cells": [
  {
   "cell_type": "code",
   "execution_count": 3,
   "metadata": {},
   "outputs": [],
   "source": [
    "import tensorflow as tf\n",
    "import numpy as np\n",
    "import pandas as pd\n",
    "import os\n",
    "import cv2\n",
    "import sklearn as sk\n",
    "import matplotlib as mpl\n",
    "\n",
    "from tensorflow import keras"
   ]
  },
  {
   "cell_type": "code",
   "execution_count": 34,
   "metadata": {},
   "outputs": [],
   "source": [
    "data_path = \"/Users/bradleyherctt/Documents/GitHub/face-mask-recognition/dataset\"\n",
    "categories = [\"with_mask\", \"without_mask\", \"incorrect_mask\"]\n",
    "\n",
    "data = []\n",
    "labels = []"
   ]
  },
  {
   "cell_type": "code",
   "execution_count": 39,
   "metadata": {},
   "outputs": [
    {
     "name": "stdout",
     "output_type": "stream",
     "text": [
      "All images partitioned into testing (20%) & training (80%) categories successfully.\n"
     ]
    }
   ],
   "source": [
    "# split into 2 groups\n",
    "# 20% testing, 80% training\n",
    "mask_imgs = os.listdir(data_path + \"/\" + categories[0])\n",
    "length_mask = len(mask_imgs)\n",
    "test_mask = []\n",
    "train_mask = []\n",
    "i = 0\n",
    "\n",
    "for img in mask_imgs: \n",
    "    i += 1\n",
    "    if i - 1  <= 0.8 * length_mask:\n",
    "        train_mask.append(img)\n",
    "    else: \n",
    "        test_mask.append(img)\n",
    "\n",
    "nomask_imgs = os.listdir(data_path + \"/\" + categories[1])\n",
    "length_nomask = len(nomask_imgs)\n",
    "test_nomask = []\n",
    "train_nomask = []\n",
    "i = 0\n",
    "\n",
    "for img in nomask_imgs:\n",
    "    i += 1\n",
    "    if i - 1 <= 0.8 * length_nomask:\n",
    "        train_nomask.append(img)\n",
    "    else:\n",
    "        test_nomask.append(img)\n",
    "\n",
    "print(\"All images partitioned into testing (20%) & training (80%) categories successfully.\")"
   ]
  },
  {
   "cell_type": "code",
   "execution_count": null,
   "metadata": {},
   "outputs": [],
   "source": [
    "#\n",
    "#for x in categories:\n",
    "#    local_path = os.path.join(data_path, x)\n",
    "#    for img in os.listdir(local_path):\n",
    "#        img_path = os.path.join(local_path, img)\n",
    "#        new_img = load_img(img_path, target_size=(128, 128))\n",
    "#        new_img = img_to_array(new_img)\n",
    "#        new_img = \n",
    "\n"
   ]
  }
 ],
 "metadata": {
  "interpreter": {
   "hash": "949777d72b0d2535278d3dc13498b2535136f6dfe0678499012e853ee9abcab1"
  },
  "kernelspec": {
   "display_name": "Python 3.10.4 64-bit",
   "language": "python",
   "name": "python3"
  },
  "language_info": {
   "codemirror_mode": {
    "name": "ipython",
    "version": 3
   },
   "file_extension": ".py",
   "mimetype": "text/x-python",
   "name": "python",
   "nbconvert_exporter": "python",
   "pygments_lexer": "ipython3",
   "version": "3.10.4"
  },
  "orig_nbformat": 4
 },
 "nbformat": 4,
 "nbformat_minor": 2
}
