{
 "cells": [
  {
   "cell_type": "code",
   "execution_count": 103,
   "metadata": {},
   "outputs": [],
   "source": [
    "import tensorflow as tf\n",
    "import numpy as np\n",
    "import pandas as pd\n",
    "import os\n",
    "import cv2\n",
    "import sklearn as sk\n",
    "import matplotlib as mpl\n",
    "import matplotlib.pyplot as plt\n",
    "\n",
    "from tensorflow import keras\n",
    "#from tensorflow.keras.preprocessing.image import ImageDataGenerator\n",
    "from tensorflow.keras.applications import MobileNetV2\n",
    "from tensorflow.keras.applications.mobilenet_v2 import preprocess_input\n",
    "from tensorflow.keras.preprocessing.image import img_to_array\n",
    "from tensorflow.keras.preprocessing.image import load_img\n",
    "from tensorflow.keras.utils import to_categorical\n",
    "from sklearn.preprocessing import LabelBinarizer\n",
    "from sklearn.model_selection import train_test_split\n",
    "from sklearn.metrics import classification_report\n",
    "\n",
    "from tensorflow.keras.layers import AveragePooling2D\n",
    "from tensorflow.keras.layers import Dropout\n",
    "from tensorflow.keras.layers import Flatten\n",
    "from tensorflow.keras.layers import Dense\n",
    "from tensorflow.keras.layers import Input\n",
    "from tensorflow.keras.models import Model\n",
    "from tensorflow.keras.optimizers import Adam\n"
   ]
  },
  {
   "cell_type": "code",
   "execution_count": 89,
   "metadata": {},
   "outputs": [],
   "source": [
    "data_path = \"/Users/bradleyherctt/Documents/GitHub/face-mask-recognition/dataset\"\n",
    "categories = [\"with_mask\", \"without_mask\"]\n",
    "\n",
    "data = []\n",
    "labels = []"
   ]
  },
  {
   "cell_type": "code",
   "execution_count": 90,
   "metadata": {},
   "outputs": [
    {
     "name": "stdout",
     "output_type": "stream",
     "text": [
      "All images partitioned into testing (20%) & training (80%) categories successfully.\n"
     ]
    }
   ],
   "source": [
    "# split into 2 groups\n",
    "# 20% testing, 80% training\n",
    "mask_imgs = os.listdir(data_path + \"/\" + categories[0])\n",
    "length_mask = len(mask_imgs)\n",
    "test_mask = []\n",
    "train_mask = []\n",
    "i = 0\n",
    "\n",
    "for img in mask_imgs: \n",
    "    i += 1\n",
    "    if i - 1  <= 0.8 * length_mask:\n",
    "        train_mask.append(img)\n",
    "    else: \n",
    "        test_mask.append(img)\n",
    "\n",
    "nomask_imgs = os.listdir(data_path + \"/\" + categories[1])\n",
    "length_nomask = len(nomask_imgs)\n",
    "test_nomask = []\n",
    "train_nomask = []\n",
    "i = 0\n",
    "\n",
    "for img in nomask_imgs:\n",
    "    i += 1\n",
    "    if i - 1 <= 0.8 * length_nomask:\n",
    "        train_nomask.append(img)\n",
    "    else:\n",
    "        test_nomask.append(img)\n",
    "\n",
    "print(\"All images partitioned into testing (20%) & training (80%) categories successfully.\")"
   ]
  },
  {
   "cell_type": "code",
   "execution_count": 91,
   "metadata": {},
   "outputs": [],
   "source": [
    "init_lr = 1e-4\n",
    "epochs = 5\n",
    "batch_size = 32"
   ]
  },
  {
   "cell_type": "code",
   "execution_count": 92,
   "metadata": {},
   "outputs": [],
   "source": [
    "\n",
    "for x in categories:\n",
    "    local_path = os.path.join(data_path, x)\n",
    "    for img in os.listdir(local_path):\n",
    "        img_path = os.path.join(local_path, img)\n",
    "        new_img = load_img(img_path, target_size=(128, 128))\n",
    "        new_img = img_to_array(new_img)\n",
    "        new_img = preprocess_input(new_img)\n",
    "\n",
    "        data.append(new_img)\n",
    "        labels.append(x)"
   ]
  },
  {
   "cell_type": "code",
   "execution_count": 93,
   "metadata": {},
   "outputs": [],
   "source": [
    "data = np.array(data, dtype=\"float32\")\n",
    "labels = np.array(labels)"
   ]
  },
  {
   "cell_type": "code",
   "execution_count": 94,
   "metadata": {},
   "outputs": [],
   "source": [
    "lb = LabelBinarizer()\n",
    "labels = lb.fit_transform(labels)\n",
    "labels = to_categorical(labels)\n",
    "\n",
    "(trainX, testX, trainY, testY) = train_test_split(data, labels, test_size=0.20, stratify=labels, random_state=42)"
   ]
  },
  {
   "cell_type": "code",
   "execution_count": 95,
   "metadata": {},
   "outputs": [
    {
     "name": "stdout",
     "output_type": "stream",
     "text": [
      "WARNING:tensorflow:`input_shape` is undefined or non-square, or `rows` is not in [96, 128, 160, 192, 224]. Weights for input shape (224, 224) will be loaded as the default.\n"
     ]
    }
   ],
   "source": [
    "# no need for data augmentations, dataset already augmented\n",
    "# imagenet pre-trained model specifically for images\n",
    "# \n",
    "base_mdl = tf.keras.applications.MobileNetV2(weights=\"imagenet\", include_top=False, input_tensor=Input(shape=(128, 128, 3)))\n",
    "\n",
    "# \n",
    "head_mdl = base_mdl.output\n",
    "head_mdl = AveragePooling2D(pool_size=(3, 3))(head_mdl)\n",
    "head_mdl = Flatten(name=\"flatten\")(head_mdl)\n",
    "# 128 neurons\n",
    "head_mdl = Dense(128, activation=\"relu\")(head_mdl)\n",
    "# helps prevent overfitting\n",
    "head_mdl = Dropout(0.5)(head_mdl)\n",
    "# 2 layers, with/without mask\n",
    "head_mdl = Dense(2, activation=\"softmax\")(head_mdl)"
   ]
  },
  {
   "cell_type": "code",
   "execution_count": 96,
   "metadata": {},
   "outputs": [],
   "source": [
    "# place head on top of base\n",
    "model = Model(inputs = base_mdl.input, outputs = head_mdl)"
   ]
  },
  {
   "cell_type": "code",
   "execution_count": 97,
   "metadata": {},
   "outputs": [],
   "source": [
    "for i in base_mdl.layers:\n",
    "    i.trainable = False"
   ]
  },
  {
   "cell_type": "code",
   "execution_count": 98,
   "metadata": {},
   "outputs": [
    {
     "name": "stdout",
     "output_type": "stream",
     "text": [
      "Compiling model...\n",
      "Training head...\n",
      "Epoch 1/5\n",
      "149/149 [==============================] - 86s 559ms/step - loss: 0.2435 - accuracy: 0.9241 - val_loss: 0.0357 - val_accuracy: 0.9907\n",
      "Epoch 2/5\n",
      "149/149 [==============================] - 77s 519ms/step - loss: 0.0535 - accuracy: 0.9840 - val_loss: 0.0257 - val_accuracy: 0.9941\n",
      "Epoch 3/5\n",
      "149/149 [==============================] - 87s 587ms/step - loss: 0.0363 - accuracy: 0.9887 - val_loss: 0.0230 - val_accuracy: 0.9941\n",
      "Epoch 4/5\n",
      "149/149 [==============================] - 75s 502ms/step - loss: 0.0272 - accuracy: 0.9920 - val_loss: 0.0232 - val_accuracy: 0.9932\n",
      "Epoch 5/5\n",
      "149/149 [==============================] - 68s 458ms/step - loss: 0.0205 - accuracy: 0.9939 - val_loss: 0.0211 - val_accuracy: 0.9941\n"
     ]
    }
   ],
   "source": [
    "print(\"Compiling model...\")\n",
    "opt = Adam(learning_rate = init_lr, decay = init_lr / epochs) # Adam optimizer being used\n",
    "model.compile(loss = \"binary_crossentropy\", optimizer = opt, metrics = [\"accuracy\"])\n",
    "\n",
    "print(\"Training head...\")\n",
    "F = model.fit(x=trainX, y=trainY, batch_size = batch_size, \n",
    "    steps_per_epoch = len(trainX) // batch_size,\n",
    "    validation_data = (testX, testY),\n",
    "    validation_steps = len(testX) // batch_size,\n",
    "    epochs = epochs)"
   ]
  },
  {
   "cell_type": "code",
   "execution_count": 102,
   "metadata": {},
   "outputs": [
    {
     "name": "stdout",
     "output_type": "stream",
     "text": [
      "[INFO] evaluating network...\n",
      "              precision    recall  f1-score   support\n",
      "\n",
      "   with_mask       1.00      0.99      0.99       599\n",
      "without_mask       0.99      1.00      0.99       599\n",
      "\n",
      "    accuracy                           0.99      1198\n",
      "   macro avg       0.99      0.99      0.99      1198\n",
      "weighted avg       0.99      0.99      0.99      1198\n",
      "\n"
     ]
    }
   ],
   "source": [
    "print(\"[INFO] evaluating network...\")\n",
    "predIdxs = model.predict(testX, batch_size=batch_size)\n",
    "predIdxs = np.argmax(predIdxs, axis=1)\n",
    "print(classification_report(testY.argmax(axis=1), predIdxs,\n",
    "\ttarget_names=lb.classes_))"
   ]
  },
  {
   "cell_type": "code",
   "execution_count": 105,
   "metadata": {},
   "outputs": [
    {
     "data": {
      "text/plain": [
       "<matplotlib.legend.Legend at 0x155ef04f0>"
      ]
     },
     "execution_count": 105,
     "metadata": {},
     "output_type": "execute_result"
    },
    {
     "data": {
      "image/png": "[encoded data removed]",
      "text/plain": [
       "<Figure size 432x288 with 1 Axes>"
      ]
     },
     "metadata": {},
     "output_type": "display_data"
    }
   ],
   "source": [
    "N = epochs\n",
    "plt.style.use(\"ggplot\")\n",
    "plt.figure()\n",
    "plt.plot(np.arange(0, N), F.history[\"loss\"], label=\"train_loss\")\n",
    "plt.plot(np.arange(0, N), F.history[\"val_loss\"], label=\"val_loss\")\n",
    "plt.plot(np.arange(0, N), F.history[\"accuracy\"], label=\"train_acc\")\n",
    "plt.plot(np.arange(0, N), F.history[\"val_accuracy\"], label=\"val_acc\")\n",
    "plt.title(\"Training Loss and Accuracy\")\n",
    "plt.xlabel(\"Epoch #\")\n",
    "plt.ylabel(\"Loss/Accuracy\")\n",
    "plt.legend(loc=\"lower left\")\n",
    "#plt.savefig(args[\"plot\"])"
   ]
  },
  {
   "cell_type": "code",
   "execution_count": null,
   "metadata": {},
   "outputs": [],
   "source": []
  }
 ],
 "metadata": {
  "interpreter": {
   "hash": "949777d72b0d2535278d3dc13498b2535136f6dfe0678499012e853ee9abcab1"
  },
  "kernelspec": {
   "display_name": "Python 3.10.4 64-bit",
   "language": "python",
   "name": "python3"
  },
  "language_info": {
   "codemirror_mode": {
    "name": "ipython",
    "version": 3
   },
   "file_extension": ".py",
   "mimetype": "text/x-python",
   "name": "python",
   "nbconvert_exporter": "python",
   "pygments_lexer": "ipython3",
   "version": "3.10.4"
  },
  "orig_nbformat": 4
 },
 "nbformat": 4,
 "nbformat_minor": 2
}
